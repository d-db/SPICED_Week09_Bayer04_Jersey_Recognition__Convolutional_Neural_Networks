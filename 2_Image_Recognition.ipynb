{
 "cells": [
  {
   "cell_type": "code",
   "execution_count": 7,
   "metadata": {
    "collapsed": true
   },
   "outputs": [],
   "source": [
    "import os\n",
    "import numpy as np\n",
    "import pickle\n",
    "\n",
    "from keras.models import Sequential\n",
    "from keras.layers import Conv2D, Dense, MaxPooling2D, Activation, Flatten, Dropout, BatchNormalization\n",
    "from keras import backend as K\n",
    "from keras.utils import to_categorical\n",
    "from keras.utils import load_img, img_to_array\n",
    "\n",
    "import matplotlib.pyplot as plt\n",
    "\n",
    "from sklearn.metrics import confusion_matrix,ConfusionMatrixDisplay\n",
    "import tensorflow as tf"
   ]
  },
  {
   "cell_type": "markdown",
   "source": [
    "## 1. Loading the pictures and creating X and y arrays"
   ],
   "metadata": {
    "collapsed": false
   }
  },
  {
   "cell_type": "code",
   "execution_count": 8,
   "outputs": [],
   "source": [
    "X = []\n",
    "y = []\n",
    "# 'classes' corresponds to the folder names where the object pictures are saved\n",
    "classes = [\"object1\", \"object2\", \"object3\", \"object4\", \"object5\", \"object6\"]\n",
    "# Base path to the folders where the object pictures are saved\n",
    "base_path = './photos/'\n",
    "\n",
    "for i, target in enumerate(classes):\n",
    "    files = os.listdir(base_path+target)\n",
    "    for file in files:\n",
    "        path = base_path + target + \"/\" + file\n",
    "        # load the image\n",
    "        img = load_img(\n",
    "            path=path,\n",
    "            grayscale=False,\n",
    "            color_mode='rgb',\n",
    "            target_size=None,\n",
    "            interpolation='nearest',\n",
    "        )\n",
    "        # convert it to an array\n",
    "        img_array = img_to_array(img)\n",
    "        # append the array to X\n",
    "        X.append(img_array)\n",
    "        # append the numeric target to y\n",
    "        y.append(i)\n",
    "\n",
    "X = np.array(X)\n",
    "y = np.array(y)\n",
    "\n",
    "# shuffle the data\n",
    "shuffler = np.random.permutation(len(X))\n",
    "X = X[shuffler]\n",
    "y = y[shuffler]"
   ],
   "metadata": {
    "collapsed": false
   }
  },
  {
   "cell_type": "code",
   "execution_count": 9,
   "outputs": [
    {
     "data": {
      "text/plain": "((1234, 650, 650, 3), (1234,))"
     },
     "execution_count": 9,
     "metadata": {},
     "output_type": "execute_result"
    }
   ],
   "source": [
    "X.shape, y.shape"
   ],
   "metadata": {
    "collapsed": false
   }
  },
  {
   "cell_type": "markdown",
   "source": [
    "## 2. Train/Test Split"
   ],
   "metadata": {
    "collapsed": false
   }
  },
  {
   "cell_type": "code",
   "execution_count": 13,
   "outputs": [],
   "source": [
    "X_train = X[300:]\n",
    "y_train = y[300:]\n",
    "X_test = X[:300]\n",
    "y_test = y[:300]"
   ],
   "metadata": {
    "collapsed": false
   }
  },
  {
   "cell_type": "code",
   "execution_count": 14,
   "outputs": [
    {
     "data": {
      "text/plain": "((934, 650, 650, 3), (934,))"
     },
     "execution_count": 14,
     "metadata": {},
     "output_type": "execute_result"
    }
   ],
   "source": [
    "X_train.shape, y_train.shape"
   ],
   "metadata": {
    "collapsed": false
   }
  },
  {
   "cell_type": "code",
   "execution_count": 15,
   "outputs": [
    {
     "data": {
      "text/plain": "((300, 650, 650, 3), (300,))"
     },
     "execution_count": 15,
     "metadata": {},
     "output_type": "execute_result"
    }
   ],
   "source": [
    "X_test.shape, y_test.shape"
   ],
   "metadata": {
    "collapsed": false
   }
  },
  {
   "cell_type": "code",
   "execution_count": 16,
   "outputs": [],
   "source": [
    "ytest_true = y_test.copy()"
   ],
   "metadata": {
    "collapsed": false
   }
  },
  {
   "cell_type": "code",
   "execution_count": 17,
   "outputs": [],
   "source": [
    "# One hot encode the labels:\n",
    "y_train = to_categorical(y_train)\n",
    "y_test = to_categorical(y_test)"
   ],
   "metadata": {
    "collapsed": false
   }
  },
  {
   "cell_type": "markdown",
   "source": [
    "## 3. Creating the model"
   ],
   "metadata": {
    "collapsed": false
   }
  },
  {
   "cell_type": "code",
   "execution_count": 22,
   "outputs": [],
   "source": [
    "# Clear session and build model:\n",
    "K.clear_session()\n",
    "\n",
    "model = Sequential([\n",
    "    Conv2D(filters = 16, kernel_size = (3,3), strides = (1,1), padding = \"valid\", activation = \"relu\" ,\n",
    "           input_shape = (650,650,3)),\n",
    "\n",
    "    MaxPooling2D(pool_size = (2,2),strides=(2,2),padding = \"valid\"),\n",
    "\n",
    "    Conv2D(filters = 16, kernel_size = (3,3), strides = (1,1), padding = \"valid\", activation = \"relu\"),\n",
    "\n",
    "    MaxPooling2D(pool_size = (2,2),strides=(2,2),padding = \"valid\"),\n",
    "\n",
    "    Flatten(),\n",
    "\n",
    "    #Fully connected layers:\n",
    "\n",
    "    Dense(100,activation='relu'),\n",
    "    Dropout(0.2),# - optional\n",
    "\n",
    "    #Output layer:\n",
    "    Dense(6 ,activation= \"softmax\")\n",
    "\n",
    "\n",
    "])"
   ],
   "metadata": {
    "collapsed": false
   }
  },
  {
   "cell_type": "code",
   "execution_count": 23,
   "outputs": [
    {
     "name": "stdout",
     "output_type": "stream",
     "text": [
      "Model: \"sequential\"\n",
      "_________________________________________________________________\n",
      "Layer (type)                 Output Shape              Param #   \n",
      "=================================================================\n",
      "conv2d (Conv2D)              (None, 648, 648, 16)      448       \n",
      "_________________________________________________________________\n",
      "max_pooling2d (MaxPooling2D) (None, 324, 324, 16)      0         \n",
      "_________________________________________________________________\n",
      "conv2d_1 (Conv2D)            (None, 322, 322, 16)      2320      \n",
      "_________________________________________________________________\n",
      "max_pooling2d_1 (MaxPooling2 (None, 161, 161, 16)      0         \n",
      "_________________________________________________________________\n",
      "flatten (Flatten)            (None, 414736)            0         \n",
      "_________________________________________________________________\n",
      "dense (Dense)                (None, 100)               41473700  \n",
      "_________________________________________________________________\n",
      "dropout (Dropout)            (None, 100)               0         \n",
      "_________________________________________________________________\n",
      "dense_1 (Dense)              (None, 6)                 606       \n",
      "=================================================================\n",
      "Total params: 41,477,074\n",
      "Trainable params: 41,477,074\n",
      "Non-trainable params: 0\n",
      "_________________________________________________________________\n"
     ]
    }
   ],
   "source": [
    "# Check the summary:\n",
    "model.summary()"
   ],
   "metadata": {
    "collapsed": false
   }
  },
  {
   "cell_type": "code",
   "execution_count": 24,
   "outputs": [],
   "source": [
    "# Compile the model\n",
    "model.compile(optimizer='Adam',loss='categorical_crossentropy',metrics=['accuracy'])"
   ],
   "metadata": {
    "collapsed": false
   }
  },
  {
   "cell_type": "code",
   "execution_count": 25,
   "outputs": [
    {
     "name": "stdout",
     "output_type": "stream",
     "text": [
      "Epoch 1/12\n",
      "8/8 [==============================] - 505s 58s/step - loss: 2955.5479 - accuracy: 0.3333 - val_loss: 385.3798 - val_accuracy: 0.5348\n",
      "Epoch 2/12\n",
      "8/8 [==============================] - 452s 56s/step - loss: 149.7020 - accuracy: 0.6975 - val_loss: 65.4989 - val_accuracy: 0.8342\n",
      "Epoch 3/12\n",
      "8/8 [==============================] - 415s 51s/step - loss: 19.5757 - accuracy: 0.8474 - val_loss: 4.9382 - val_accuracy: 0.8021\n",
      "Epoch 4/12\n",
      "8/8 [==============================] - 406s 51s/step - loss: 3.5116 - accuracy: 0.8608 - val_loss: 0.9443 - val_accuracy: 0.8770\n",
      "Epoch 5/12\n",
      "8/8 [==============================] - 405s 49s/step - loss: 1.2262 - accuracy: 0.9250 - val_loss: 0.1536 - val_accuracy: 0.9519\n",
      "Epoch 6/12\n",
      "8/8 [==============================] - 373s 46s/step - loss: 1.5891 - accuracy: 0.9357 - val_loss: 0.1597 - val_accuracy: 0.9519\n",
      "Epoch 7/12\n",
      "8/8 [==============================] - 378s 46s/step - loss: 0.3771 - accuracy: 0.9612 - val_loss: 0.0674 - val_accuracy: 0.9786\n",
      "Epoch 8/12\n",
      "8/8 [==============================] - 359s 44s/step - loss: 0.1705 - accuracy: 0.9933 - val_loss: 0.0287 - val_accuracy: 0.9893\n",
      "Epoch 9/12\n",
      "8/8 [==============================] - 378s 46s/step - loss: 0.0015 - accuracy: 1.0000 - val_loss: 0.0364 - val_accuracy: 0.9893\n",
      "Epoch 10/12\n",
      "8/8 [==============================] - 362s 44s/step - loss: 0.0867 - accuracy: 0.9987 - val_loss: 0.0467 - val_accuracy: 0.9893\n",
      "Epoch 11/12\n",
      "8/8 [==============================] - 379s 46s/step - loss: 0.0868 - accuracy: 0.9973 - val_loss: 0.0867 - val_accuracy: 0.9893\n",
      "Epoch 12/12\n",
      "8/8 [==============================] - 345s 41s/step - loss: 0.0439 - accuracy: 0.9960 - val_loss: 0.1207 - val_accuracy: 0.9840\n"
     ]
    }
   ],
   "source": [
    "# Fit the model\n",
    "history = model.fit(X_train,y_train,batch_size=100, epochs=12,validation_split=0.2)"
   ],
   "metadata": {
    "collapsed": false
   }
  },
  {
   "cell_type": "code",
   "execution_count": 26,
   "outputs": [
    {
     "data": {
      "text/plain": "<matplotlib.legend.Legend at 0x7f7446f39470>"
     },
     "execution_count": 26,
     "metadata": {},
     "output_type": "execute_result"
    },
    {
     "data": {
      "text/plain": "<Figure size 432x288 with 1 Axes>",
      "image/png": "[encoded data removed]"
     },
     "metadata": {
      "needs_background": "light"
     },
     "output_type": "display_data"
    }
   ],
   "source": [
    "# Plot accuracy curve\n",
    "plt.plot(history.history['accuracy'], label='training accuracy')\n",
    "plt.plot(history.history['val_accuracy'], label= 'validation accuracy')\n",
    "plt.xlabel('epochs')\n",
    "plt.ylabel('accuracy')\n",
    "plt.legend()"
   ],
   "metadata": {
    "collapsed": false
   }
  },
  {
   "cell_type": "code",
   "execution_count": 27,
   "outputs": [
    {
     "data": {
      "text/plain": "<matplotlib.legend.Legend at 0x7f74470c7c18>"
     },
     "execution_count": 27,
     "metadata": {},
     "output_type": "execute_result"
    },
    {
     "data": {
      "text/plain": "<Figure size 432x288 with 1 Axes>",
      "image/png": "[encoded data removed]"
     },
     "metadata": {
      "needs_background": "light"
     },
     "output_type": "display_data"
    }
   ],
   "source": [
    "# Plot loss\n",
    "plt.plot(history.history['loss'], label='training loss')\n",
    "plt.plot(history.history['val_loss'], label='validation loss')\n",
    "plt.xlabel('epochs')\n",
    "plt.ylabel('loss')\n",
    "plt.legend()"
   ],
   "metadata": {
    "collapsed": false
   }
  },
  {
   "cell_type": "code",
   "execution_count": 29,
   "outputs": [],
   "source": [
    "y_pred = model.predict(X_test)"
   ],
   "metadata": {
    "collapsed": false
   }
  },
  {
   "cell_type": "code",
   "execution_count": 30,
   "outputs": [
    {
     "data": {
      "text/plain": "(300, 6)"
     },
     "execution_count": 30,
     "metadata": {},
     "output_type": "execute_result"
    }
   ],
   "source": [
    "y_pred.shape"
   ],
   "metadata": {
    "collapsed": false
   }
  },
  {
   "cell_type": "code",
   "execution_count": 31,
   "outputs": [
    {
     "data": {
      "text/plain": "5"
     },
     "execution_count": 31,
     "metadata": {},
     "output_type": "execute_result"
    }
   ],
   "source": [
    "np.argmax(y_pred[0])"
   ],
   "metadata": {
    "collapsed": false
   }
  },
  {
   "cell_type": "code",
   "execution_count": 32,
   "outputs": [
    {
     "data": {
      "text/plain": "<sklearn.metrics._plot.confusion_matrix.ConfusionMatrixDisplay at 0x7f7446fbf550>"
     },
     "execution_count": 32,
     "metadata": {},
     "output_type": "execute_result"
    },
    {
     "data": {
      "text/plain": "<Figure size 720x720 with 2 Axes>",
      "image/png": "[encoded data removed]"
     },
     "metadata": {
      "needs_background": "light"
     },
     "output_type": "display_data"
    }
   ],
   "source": [
    "# Plot confusion matrix\n",
    "cm = confusion_matrix(y_true=ytest_true, y_pred=np.argmax(y_pred, axis=1))\n",
    "\n",
    "disp = ConfusionMatrixDisplay(confusion_matrix=cm,\n",
    "                              display_labels=np.unique(ytest_true))\n",
    "fig, ax = plt.subplots(figsize=(10,10))\n",
    "\n",
    "disp.plot(ax=ax)"
   ],
   "metadata": {
    "collapsed": false
   }
  },
  {
   "cell_type": "markdown",
   "source": [
    "## 4. Save the model and X_test/y_test"
   ],
   "metadata": {
    "collapsed": false
   }
  },
  {
   "cell_type": "code",
   "execution_count": null,
   "outputs": [],
   "source": [
    "tf.keras.models.save_model(model, \"./data/model_new\")"
   ],
   "metadata": {
    "collapsed": false
   }
  },
  {
   "cell_type": "code",
   "execution_count": 28,
   "outputs": [
    {
     "name": "stdout",
     "output_type": "stream",
     "text": [
      "INFO:tensorflow:Assets written to: ./data/model_new/assets\n"
     ]
    }
   ],
   "source": [
    "model.save('./data/model_new')"
   ],
   "metadata": {
    "collapsed": false
   }
  },
  {
   "cell_type": "code",
   "execution_count": 33,
   "outputs": [],
   "source": [
    "with open('./data/y_test.bin', 'wb') as f:\n",
    "    pickle.dump(y_test, f)"
   ],
   "metadata": {
    "collapsed": false
   }
  },
  {
   "cell_type": "code",
   "execution_count": 34,
   "outputs": [],
   "source": [
    "with open('./data/X_test.bin', 'wb') as f:\n",
    "    pickle.dump(X_test, f)"
   ],
   "metadata": {
    "collapsed": false
   }
  },
  {
   "cell_type": "code",
   "execution_count": 35,
   "outputs": [],
   "source": [
    "with open('./data/ytest_true.bin', 'wb') as f:\n",
    "    pickle.dump(ytest_true, f)"
   ],
   "metadata": {
    "collapsed": false
   }
  }
 ],
 "metadata": {
  "kernelspec": {
   "display_name": "Python 3",
   "language": "python",
   "name": "python3"
  },
  "language_info": {
   "codemirror_mode": {
    "name": "ipython",
    "version": 2
   },
   "file_extension": ".py",
   "mimetype": "text/x-python",
   "name": "python",
   "nbconvert_exporter": "python",
   "pygments_lexer": "ipython2",
   "version": "2.7.6"
  }
 },
 "nbformat": 4,
 "nbformat_minor": 0
}
